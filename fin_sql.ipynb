{
 "cells": [
  {
   "cell_type": "markdown",
   "id": "3ade1608",
   "metadata": {},
   "source": [
    "# SQL"
   ]
  },
  {
   "cell_type": "markdown",
   "id": "c9dc07f0",
   "metadata": {},
   "source": [
    "**Описание проекта**<br>\n",
    "<br>\n",
    "Ваша компания решила быть на волне и купила крупный сервис для чтения книг по подписке. <br>\n",
    "В ней — информация о книгах, издательствах, авторах, а также пользовательские обзоры книг. Эти данные помогут сформулировать ценностное предложение для нового продукта.<br>"
   ]
  },
  {
   "cell_type": "markdown",
   "id": "e70e5cf6",
   "metadata": {},
   "source": [
    "**Цель проекта** - проанализировать базу данных и дать ответы на поставленные вопросы. "
   ]
  },
  {
   "cell_type": "markdown",
   "id": "28a22d99",
   "metadata": {},
   "source": [
    "**Описание данных**<br>\n",
    "<br>\n",
    "Таблица `books`<br>\n",
    "<br>\n",
    "`book_id` — идентификатор книги;<br>\n",
    "`author_id` — идентификатор автора;<br>\n",
    "`title` — название книги;<br>\n",
    "`num_pages` — количество страниц;<br>\n",
    "`publication_date` — дата публикации книги;<br>\n",
    "`publisher_id` — идентификатор издателя.<br>\n",
    "<br>\n",
    "Таблица `authors`<br>\n",
    "<br>\n",
    "`author_id` — идентификатор автора;<br>\n",
    "`author` — имя автора.<br>\n",
    "<br>\n",
    "Таблица `publishers`<br>\n",
    "<br>\n",
    "`publisher_id` — идентификатор издательства;<br>\n",
    "`publisher` — название издательства;<br>\n",
    "<br>\n",
    "Таблица `ratings`<br>\n",
    "<br>\n",
    "`rating_id` — идентификатор оценки;<br>\n",
    "`book_id` — идентификатор книги;<br>\n",
    "`username` — имя пользователя, оставившего оценку;<br>\n",
    "`rating` — оценка книги.<br>\n",
    "<br>\n",
    "Таблица `reviews`<br>\n",
    "<br>\n",
    "`review_id` — идентификатор обзора;<br>\n",
    "`book_id` — идентификатор книги;<br>\n",
    "`username` — имя пользователя, написавшего обзор;<br>\n",
    "`text` — текст обзора.<br>"
   ]
  },
  {
   "cell_type": "markdown",
   "id": "03f3e248",
   "metadata": {
    "toc": true
   },
   "source": [
    "<h1>Содержание<span class=\"tocSkip\"></span></h1>\n",
    "<div class=\"toc\"><ul class=\"toc-item\"><li><span><a href=\"#Подключение-к-базе-данных\" data-toc-modified-id=\"Подключение-к-базе-данных-1\"><span class=\"toc-item-num\">1&nbsp;&nbsp;</span>Подключение к базе данных</a></span></li><li><span><a href=\"#Просмотр-таблиц\" data-toc-modified-id=\"Просмотр-таблиц-2\"><span class=\"toc-item-num\">2&nbsp;&nbsp;</span>Просмотр таблиц</a></span></li><li><span><a href=\"#Задания\" data-toc-modified-id=\"Задания-3\"><span class=\"toc-item-num\">3&nbsp;&nbsp;</span>Задания</a></span><ul class=\"toc-item\"><li><span><a href=\"#Задача-1\" data-toc-modified-id=\"Задача-1-3.1\"><span class=\"toc-item-num\">3.1&nbsp;&nbsp;</span>Задача 1</a></span></li><li><span><a href=\"#Задача-2\" data-toc-modified-id=\"Задача-2-3.2\"><span class=\"toc-item-num\">3.2&nbsp;&nbsp;</span>Задача 2</a></span></li><li><span><a href=\"#Задача-3\" data-toc-modified-id=\"Задача-3-3.3\"><span class=\"toc-item-num\">3.3&nbsp;&nbsp;</span>Задача 3</a></span></li><li><span><a href=\"#Задача-4\" data-toc-modified-id=\"Задача-4-3.4\"><span class=\"toc-item-num\">3.4&nbsp;&nbsp;</span>Задача 4</a></span></li><li><span><a href=\"#Задача-5\" data-toc-modified-id=\"Задача-5-3.5\"><span class=\"toc-item-num\">3.5&nbsp;&nbsp;</span>Задача 5</a></span></li></ul></li></ul></div>"
   ]
  },
  {
   "cell_type": "markdown",
   "id": "16304404",
   "metadata": {},
   "source": [
    "## Подключение к базе данных"
   ]
  },
  {
   "cell_type": "code",
   "execution_count": 1,
   "id": "47fa753c",
   "metadata": {},
   "outputs": [],
   "source": [
    "# импортируем библиотеки\n",
    "import pandas as pd \n",
    "from sqlalchemy import create_engine \n",
    "# устанавливаем параметры\n",
    "db_config = {'user': 'praktikum_student', # имя пользователя\n",
    " 'pwd': 'Sdf4$2;d-d30pp', # пароль\n",
    " 'host': 'rc1b-wcoijxj3yxfsf3fs.mdb.yandexcloud.net', \n",
    " 'port': 6432, # порт подключения\n",
    " 'db': 'data-analyst-final-project-db'} # название базы данных\n",
    "connection_string = 'postgresql://{}:{}@{}:{}/{}'.format(db_config['user'], \n",
    " db_config['pwd'], \n",
    " db_config['host'], \n",
    " db_config['port'], \n",
    " db_config['db']) \n",
    "# сохраняем коннектор\n",
    "engine = create_engine(connection_string, connect_args={'sslmode':'require'})"
   ]
  },
  {
   "cell_type": "markdown",
   "id": "0617ef33",
   "metadata": {},
   "source": [
    "## Просмотр таблиц"
   ]
  },
  {
   "cell_type": "code",
   "execution_count": 2,
   "id": "1d3b5c05",
   "metadata": {},
   "outputs": [
    {
     "data": {
      "text/html": [
       "<div>\n",
       "<style scoped>\n",
       "    .dataframe tbody tr th:only-of-type {\n",
       "        vertical-align: middle;\n",
       "    }\n",
       "\n",
       "    .dataframe tbody tr th {\n",
       "        vertical-align: top;\n",
       "    }\n",
       "\n",
       "    .dataframe thead th {\n",
       "        text-align: right;\n",
       "    }\n",
       "</style>\n",
       "<table border=\"1\" class=\"dataframe\">\n",
       "  <thead>\n",
       "    <tr style=\"text-align: right;\">\n",
       "      <th></th>\n",
       "      <th>book_id</th>\n",
       "      <th>author_id</th>\n",
       "      <th>title</th>\n",
       "      <th>num_pages</th>\n",
       "      <th>publication_date</th>\n",
       "      <th>publisher_id</th>\n",
       "    </tr>\n",
       "  </thead>\n",
       "  <tbody>\n",
       "    <tr>\n",
       "      <th>0</th>\n",
       "      <td>1</td>\n",
       "      <td>546</td>\n",
       "      <td>'Salem's Lot</td>\n",
       "      <td>594</td>\n",
       "      <td>2005-11-01</td>\n",
       "      <td>93</td>\n",
       "    </tr>\n",
       "    <tr>\n",
       "      <th>1</th>\n",
       "      <td>2</td>\n",
       "      <td>465</td>\n",
       "      <td>1 000 Places to See Before You Die</td>\n",
       "      <td>992</td>\n",
       "      <td>2003-05-22</td>\n",
       "      <td>336</td>\n",
       "    </tr>\n",
       "    <tr>\n",
       "      <th>2</th>\n",
       "      <td>3</td>\n",
       "      <td>407</td>\n",
       "      <td>13 Little Blue Envelopes (Little Blue Envelope...</td>\n",
       "      <td>322</td>\n",
       "      <td>2010-12-21</td>\n",
       "      <td>135</td>\n",
       "    </tr>\n",
       "    <tr>\n",
       "      <th>3</th>\n",
       "      <td>4</td>\n",
       "      <td>82</td>\n",
       "      <td>1491: New Revelations of the Americas Before C...</td>\n",
       "      <td>541</td>\n",
       "      <td>2006-10-10</td>\n",
       "      <td>309</td>\n",
       "    </tr>\n",
       "    <tr>\n",
       "      <th>4</th>\n",
       "      <td>5</td>\n",
       "      <td>125</td>\n",
       "      <td>1776</td>\n",
       "      <td>386</td>\n",
       "      <td>2006-07-04</td>\n",
       "      <td>268</td>\n",
       "    </tr>\n",
       "  </tbody>\n",
       "</table>\n",
       "</div>"
      ],
      "text/plain": [
       "   book_id  author_id                                              title  \\\n",
       "0        1        546                                       'Salem's Lot   \n",
       "1        2        465                 1 000 Places to See Before You Die   \n",
       "2        3        407  13 Little Blue Envelopes (Little Blue Envelope...   \n",
       "3        4         82  1491: New Revelations of the Americas Before C...   \n",
       "4        5        125                                               1776   \n",
       "\n",
       "   num_pages publication_date  publisher_id  \n",
       "0        594       2005-11-01            93  \n",
       "1        992       2003-05-22           336  \n",
       "2        322       2010-12-21           135  \n",
       "3        541       2006-10-10           309  \n",
       "4        386       2006-07-04           268  "
      ]
     },
     "metadata": {},
     "output_type": "display_data"
    },
    {
     "data": {
      "text/html": [
       "<div>\n",
       "<style scoped>\n",
       "    .dataframe tbody tr th:only-of-type {\n",
       "        vertical-align: middle;\n",
       "    }\n",
       "\n",
       "    .dataframe tbody tr th {\n",
       "        vertical-align: top;\n",
       "    }\n",
       "\n",
       "    .dataframe thead th {\n",
       "        text-align: right;\n",
       "    }\n",
       "</style>\n",
       "<table border=\"1\" class=\"dataframe\">\n",
       "  <thead>\n",
       "    <tr style=\"text-align: right;\">\n",
       "      <th></th>\n",
       "      <th>author_id</th>\n",
       "      <th>author</th>\n",
       "    </tr>\n",
       "  </thead>\n",
       "  <tbody>\n",
       "    <tr>\n",
       "      <th>0</th>\n",
       "      <td>1</td>\n",
       "      <td>A.S. Byatt</td>\n",
       "    </tr>\n",
       "    <tr>\n",
       "      <th>1</th>\n",
       "      <td>2</td>\n",
       "      <td>Aesop/Laura Harris/Laura Gibbs</td>\n",
       "    </tr>\n",
       "    <tr>\n",
       "      <th>2</th>\n",
       "      <td>3</td>\n",
       "      <td>Agatha Christie</td>\n",
       "    </tr>\n",
       "    <tr>\n",
       "      <th>3</th>\n",
       "      <td>4</td>\n",
       "      <td>Alan Brennert</td>\n",
       "    </tr>\n",
       "    <tr>\n",
       "      <th>4</th>\n",
       "      <td>5</td>\n",
       "      <td>Alan Moore/David   Lloyd</td>\n",
       "    </tr>\n",
       "  </tbody>\n",
       "</table>\n",
       "</div>"
      ],
      "text/plain": [
       "   author_id                          author\n",
       "0          1                      A.S. Byatt\n",
       "1          2  Aesop/Laura Harris/Laura Gibbs\n",
       "2          3                 Agatha Christie\n",
       "3          4                   Alan Brennert\n",
       "4          5        Alan Moore/David   Lloyd"
      ]
     },
     "metadata": {},
     "output_type": "display_data"
    },
    {
     "data": {
      "text/html": [
       "<div>\n",
       "<style scoped>\n",
       "    .dataframe tbody tr th:only-of-type {\n",
       "        vertical-align: middle;\n",
       "    }\n",
       "\n",
       "    .dataframe tbody tr th {\n",
       "        vertical-align: top;\n",
       "    }\n",
       "\n",
       "    .dataframe thead th {\n",
       "        text-align: right;\n",
       "    }\n",
       "</style>\n",
       "<table border=\"1\" class=\"dataframe\">\n",
       "  <thead>\n",
       "    <tr style=\"text-align: right;\">\n",
       "      <th></th>\n",
       "      <th>rating_id</th>\n",
       "      <th>book_id</th>\n",
       "      <th>username</th>\n",
       "      <th>rating</th>\n",
       "    </tr>\n",
       "  </thead>\n",
       "  <tbody>\n",
       "    <tr>\n",
       "      <th>0</th>\n",
       "      <td>1</td>\n",
       "      <td>1</td>\n",
       "      <td>ryanfranco</td>\n",
       "      <td>4</td>\n",
       "    </tr>\n",
       "    <tr>\n",
       "      <th>1</th>\n",
       "      <td>2</td>\n",
       "      <td>1</td>\n",
       "      <td>grantpatricia</td>\n",
       "      <td>2</td>\n",
       "    </tr>\n",
       "    <tr>\n",
       "      <th>2</th>\n",
       "      <td>3</td>\n",
       "      <td>1</td>\n",
       "      <td>brandtandrea</td>\n",
       "      <td>5</td>\n",
       "    </tr>\n",
       "    <tr>\n",
       "      <th>3</th>\n",
       "      <td>4</td>\n",
       "      <td>2</td>\n",
       "      <td>lorichen</td>\n",
       "      <td>3</td>\n",
       "    </tr>\n",
       "    <tr>\n",
       "      <th>4</th>\n",
       "      <td>5</td>\n",
       "      <td>2</td>\n",
       "      <td>mariokeller</td>\n",
       "      <td>2</td>\n",
       "    </tr>\n",
       "  </tbody>\n",
       "</table>\n",
       "</div>"
      ],
      "text/plain": [
       "   rating_id  book_id       username  rating\n",
       "0          1        1     ryanfranco       4\n",
       "1          2        1  grantpatricia       2\n",
       "2          3        1   brandtandrea       5\n",
       "3          4        2       lorichen       3\n",
       "4          5        2    mariokeller       2"
      ]
     },
     "metadata": {},
     "output_type": "display_data"
    },
    {
     "data": {
      "text/html": [
       "<div>\n",
       "<style scoped>\n",
       "    .dataframe tbody tr th:only-of-type {\n",
       "        vertical-align: middle;\n",
       "    }\n",
       "\n",
       "    .dataframe tbody tr th {\n",
       "        vertical-align: top;\n",
       "    }\n",
       "\n",
       "    .dataframe thead th {\n",
       "        text-align: right;\n",
       "    }\n",
       "</style>\n",
       "<table border=\"1\" class=\"dataframe\">\n",
       "  <thead>\n",
       "    <tr style=\"text-align: right;\">\n",
       "      <th></th>\n",
       "      <th>review_id</th>\n",
       "      <th>book_id</th>\n",
       "      <th>username</th>\n",
       "      <th>text</th>\n",
       "    </tr>\n",
       "  </thead>\n",
       "  <tbody>\n",
       "    <tr>\n",
       "      <th>0</th>\n",
       "      <td>1</td>\n",
       "      <td>1</td>\n",
       "      <td>brandtandrea</td>\n",
       "      <td>Mention society tell send professor analysis. ...</td>\n",
       "    </tr>\n",
       "    <tr>\n",
       "      <th>1</th>\n",
       "      <td>2</td>\n",
       "      <td>1</td>\n",
       "      <td>ryanfranco</td>\n",
       "      <td>Foot glass pretty audience hit themselves. Amo...</td>\n",
       "    </tr>\n",
       "    <tr>\n",
       "      <th>2</th>\n",
       "      <td>3</td>\n",
       "      <td>2</td>\n",
       "      <td>lorichen</td>\n",
       "      <td>Listen treat keep worry. Miss husband tax but ...</td>\n",
       "    </tr>\n",
       "    <tr>\n",
       "      <th>3</th>\n",
       "      <td>4</td>\n",
       "      <td>3</td>\n",
       "      <td>johnsonamanda</td>\n",
       "      <td>Finally month interesting blue could nature cu...</td>\n",
       "    </tr>\n",
       "    <tr>\n",
       "      <th>4</th>\n",
       "      <td>5</td>\n",
       "      <td>3</td>\n",
       "      <td>scotttamara</td>\n",
       "      <td>Nation purpose heavy give wait song will. List...</td>\n",
       "    </tr>\n",
       "  </tbody>\n",
       "</table>\n",
       "</div>"
      ],
      "text/plain": [
       "   review_id  book_id       username  \\\n",
       "0          1        1   brandtandrea   \n",
       "1          2        1     ryanfranco   \n",
       "2          3        2       lorichen   \n",
       "3          4        3  johnsonamanda   \n",
       "4          5        3    scotttamara   \n",
       "\n",
       "                                                text  \n",
       "0  Mention society tell send professor analysis. ...  \n",
       "1  Foot glass pretty audience hit themselves. Amo...  \n",
       "2  Listen treat keep worry. Miss husband tax but ...  \n",
       "3  Finally month interesting blue could nature cu...  \n",
       "4  Nation purpose heavy give wait song will. List...  "
      ]
     },
     "metadata": {},
     "output_type": "display_data"
    },
    {
     "data": {
      "text/html": [
       "<div>\n",
       "<style scoped>\n",
       "    .dataframe tbody tr th:only-of-type {\n",
       "        vertical-align: middle;\n",
       "    }\n",
       "\n",
       "    .dataframe tbody tr th {\n",
       "        vertical-align: top;\n",
       "    }\n",
       "\n",
       "    .dataframe thead th {\n",
       "        text-align: right;\n",
       "    }\n",
       "</style>\n",
       "<table border=\"1\" class=\"dataframe\">\n",
       "  <thead>\n",
       "    <tr style=\"text-align: right;\">\n",
       "      <th></th>\n",
       "      <th>publisher_id</th>\n",
       "      <th>publisher</th>\n",
       "    </tr>\n",
       "  </thead>\n",
       "  <tbody>\n",
       "    <tr>\n",
       "      <th>0</th>\n",
       "      <td>1</td>\n",
       "      <td>Ace</td>\n",
       "    </tr>\n",
       "    <tr>\n",
       "      <th>1</th>\n",
       "      <td>2</td>\n",
       "      <td>Ace Book</td>\n",
       "    </tr>\n",
       "    <tr>\n",
       "      <th>2</th>\n",
       "      <td>3</td>\n",
       "      <td>Ace Books</td>\n",
       "    </tr>\n",
       "    <tr>\n",
       "      <th>3</th>\n",
       "      <td>4</td>\n",
       "      <td>Ace Hardcover</td>\n",
       "    </tr>\n",
       "    <tr>\n",
       "      <th>4</th>\n",
       "      <td>5</td>\n",
       "      <td>Addison Wesley Publishing Company</td>\n",
       "    </tr>\n",
       "  </tbody>\n",
       "</table>\n",
       "</div>"
      ],
      "text/plain": [
       "   publisher_id                          publisher\n",
       "0             1                                Ace\n",
       "1             2                           Ace Book\n",
       "2             3                          Ace Books\n",
       "3             4                      Ace Hardcover\n",
       "4             5  Addison Wesley Publishing Company"
      ]
     },
     "metadata": {},
     "output_type": "display_data"
    }
   ],
   "source": [
    "table = ['books', 'authors', 'ratings', 'reviews', 'publishers']\n",
    "\n",
    "for i in table:\n",
    "    query = '''\n",
    "        SELECT *\n",
    "        FROM {}\n",
    "    '''.format(i)\n",
    "    \n",
    "    temp_df = pd.io.sql.read_sql(query, con = engine)\n",
    "    display(temp_df.head())"
   ]
  },
  {
   "cell_type": "markdown",
   "id": "4743c409",
   "metadata": {},
   "source": [
    "## Задания"
   ]
  },
  {
   "cell_type": "markdown",
   "id": "a145fcdb",
   "metadata": {},
   "source": [
    "### Задача 1"
   ]
  },
  {
   "cell_type": "markdown",
   "id": "7c0b273c",
   "metadata": {},
   "source": [
    "Посчитайте, сколько книг вышло после 1 января 2000 года"
   ]
  },
  {
   "cell_type": "code",
   "execution_count": 3,
   "id": "b99871bf",
   "metadata": {},
   "outputs": [
    {
     "data": {
      "text/html": [
       "<div>\n",
       "<style scoped>\n",
       "    .dataframe tbody tr th:only-of-type {\n",
       "        vertical-align: middle;\n",
       "    }\n",
       "\n",
       "    .dataframe tbody tr th {\n",
       "        vertical-align: top;\n",
       "    }\n",
       "\n",
       "    .dataframe thead th {\n",
       "        text-align: right;\n",
       "    }\n",
       "</style>\n",
       "<table border=\"1\" class=\"dataframe\">\n",
       "  <thead>\n",
       "    <tr style=\"text-align: right;\">\n",
       "      <th></th>\n",
       "      <th>count</th>\n",
       "    </tr>\n",
       "  </thead>\n",
       "  <tbody>\n",
       "    <tr>\n",
       "      <th>0</th>\n",
       "      <td>821</td>\n",
       "    </tr>\n",
       "  </tbody>\n",
       "</table>\n",
       "</div>"
      ],
      "text/plain": [
       "   count\n",
       "0    821"
      ]
     },
     "metadata": {},
     "output_type": "display_data"
    }
   ],
   "source": [
    "query = '''\n",
    "        SELECT COUNT (*)\n",
    "        FROM books\n",
    "        WHERE publication_date >='2000-01-01'\n",
    "    '''\n",
    "task_1 = pd.io.sql.read_sql(query, con = engine)\n",
    "display(task_1)"
   ]
  },
  {
   "cell_type": "markdown",
   "id": "2d7be06c",
   "metadata": {},
   "source": [
    "**Ответ:** После 01-01-2000 вышла 821 книга"
   ]
  },
  {
   "cell_type": "markdown",
   "id": "09e3d82d",
   "metadata": {},
   "source": [
    "### Задача 2"
   ]
  },
  {
   "cell_type": "markdown",
   "id": "b1b51515",
   "metadata": {},
   "source": [
    "Для каждой книги посчитайте количество обзоров и среднюю оценку"
   ]
  },
  {
   "cell_type": "code",
   "execution_count": 4,
   "id": "5f3ae342",
   "metadata": {
    "scrolled": false
   },
   "outputs": [
    {
     "data": {
      "text/html": [
       "<div>\n",
       "<style scoped>\n",
       "    .dataframe tbody tr th:only-of-type {\n",
       "        vertical-align: middle;\n",
       "    }\n",
       "\n",
       "    .dataframe tbody tr th {\n",
       "        vertical-align: top;\n",
       "    }\n",
       "\n",
       "    .dataframe thead th {\n",
       "        text-align: right;\n",
       "    }\n",
       "</style>\n",
       "<table border=\"1\" class=\"dataframe\">\n",
       "  <thead>\n",
       "    <tr style=\"text-align: right;\">\n",
       "      <th></th>\n",
       "      <th>title</th>\n",
       "      <th>count</th>\n",
       "      <th>avg</th>\n",
       "    </tr>\n",
       "  </thead>\n",
       "  <tbody>\n",
       "    <tr>\n",
       "      <th>0</th>\n",
       "      <td>Twilight (Twilight  #1)</td>\n",
       "      <td>7</td>\n",
       "      <td>3.662500</td>\n",
       "    </tr>\n",
       "    <tr>\n",
       "      <th>1</th>\n",
       "      <td>Harry Potter and the Prisoner of Azkaban (Harr...</td>\n",
       "      <td>6</td>\n",
       "      <td>4.414634</td>\n",
       "    </tr>\n",
       "    <tr>\n",
       "      <th>2</th>\n",
       "      <td>Harry Potter and the Chamber of Secrets (Harry...</td>\n",
       "      <td>6</td>\n",
       "      <td>4.287500</td>\n",
       "    </tr>\n",
       "    <tr>\n",
       "      <th>3</th>\n",
       "      <td>The Book Thief</td>\n",
       "      <td>6</td>\n",
       "      <td>4.264151</td>\n",
       "    </tr>\n",
       "    <tr>\n",
       "      <th>4</th>\n",
       "      <td>The Glass Castle</td>\n",
       "      <td>6</td>\n",
       "      <td>4.206897</td>\n",
       "    </tr>\n",
       "    <tr>\n",
       "      <th>...</th>\n",
       "      <td>...</td>\n",
       "      <td>...</td>\n",
       "      <td>...</td>\n",
       "    </tr>\n",
       "    <tr>\n",
       "      <th>995</th>\n",
       "      <td>Disney's Beauty and the Beast (A Little Golden...</td>\n",
       "      <td>0</td>\n",
       "      <td>4.000000</td>\n",
       "    </tr>\n",
       "    <tr>\n",
       "      <th>996</th>\n",
       "      <td>Essential Tales and Poems</td>\n",
       "      <td>0</td>\n",
       "      <td>4.000000</td>\n",
       "    </tr>\n",
       "    <tr>\n",
       "      <th>997</th>\n",
       "      <td>Leonardo's Notebooks</td>\n",
       "      <td>0</td>\n",
       "      <td>4.000000</td>\n",
       "    </tr>\n",
       "    <tr>\n",
       "      <th>998</th>\n",
       "      <td>Anne Rice's The Vampire Lestat: A Graphic Novel</td>\n",
       "      <td>0</td>\n",
       "      <td>3.666667</td>\n",
       "    </tr>\n",
       "    <tr>\n",
       "      <th>999</th>\n",
       "      <td>The Natural Way to Draw</td>\n",
       "      <td>0</td>\n",
       "      <td>3.000000</td>\n",
       "    </tr>\n",
       "  </tbody>\n",
       "</table>\n",
       "<p>1000 rows × 3 columns</p>\n",
       "</div>"
      ],
      "text/plain": [
       "                                                 title  count       avg\n",
       "0                              Twilight (Twilight  #1)      7  3.662500\n",
       "1    Harry Potter and the Prisoner of Azkaban (Harr...      6  4.414634\n",
       "2    Harry Potter and the Chamber of Secrets (Harry...      6  4.287500\n",
       "3                                       The Book Thief      6  4.264151\n",
       "4                                     The Glass Castle      6  4.206897\n",
       "..                                                 ...    ...       ...\n",
       "995  Disney's Beauty and the Beast (A Little Golden...      0  4.000000\n",
       "996                          Essential Tales and Poems      0  4.000000\n",
       "997                               Leonardo's Notebooks      0  4.000000\n",
       "998    Anne Rice's The Vampire Lestat: A Graphic Novel      0  3.666667\n",
       "999                            The Natural Way to Draw      0  3.000000\n",
       "\n",
       "[1000 rows x 3 columns]"
      ]
     },
     "metadata": {},
     "output_type": "display_data"
    }
   ],
   "source": [
    "query = '''\n",
    "        WITH a AS \n",
    "        (SELECT b.title\n",
    "            , COUNT(r.review_id) OVER (PARTITION BY r.book_id)\n",
    "            , AVG(rt.rating)\n",
    "        FROM books b\n",
    "        left JOIN reviews r ON b.book_id = r.book_id\n",
    "        left JOIN ratings rt ON b.book_id = rt.book_id\n",
    "        GROUP BY 1, r.review_id\n",
    "        ORDER BY 2 DESC, 3 DESC)\n",
    "        SELECT *\n",
    "        FROM a\n",
    "        GROUP BY 1, 2, 3\n",
    "        ORDER BY 2 DESC, 3 DESC\n",
    "        '''\n",
    "task_2 = pd.io.sql.read_sql(query, con = engine)\n",
    "display(task_2)"
   ]
  },
  {
   "cell_type": "markdown",
   "id": "98656be8",
   "metadata": {},
   "source": [
    "**Ответ:** Лидером является книга `Twilight (Twilight #1)` - `Сумерки` с 7 обзорами, имеющая средную оценку 3,6625."
   ]
  },
  {
   "cell_type": "markdown",
   "id": "cd39eb9e",
   "metadata": {},
   "source": [
    "### Задача 3"
   ]
  },
  {
   "cell_type": "markdown",
   "id": "9ab553c3",
   "metadata": {},
   "source": [
    "Определите издательство, которое выпустило наибольшее число книг толще\n",
    "50 страниц — так вы исключите из анализа брошюры"
   ]
  },
  {
   "cell_type": "code",
   "execution_count": 5,
   "id": "23b3f49b",
   "metadata": {},
   "outputs": [
    {
     "data": {
      "text/html": [
       "<div>\n",
       "<style scoped>\n",
       "    .dataframe tbody tr th:only-of-type {\n",
       "        vertical-align: middle;\n",
       "    }\n",
       "\n",
       "    .dataframe tbody tr th {\n",
       "        vertical-align: top;\n",
       "    }\n",
       "\n",
       "    .dataframe thead th {\n",
       "        text-align: right;\n",
       "    }\n",
       "</style>\n",
       "<table border=\"1\" class=\"dataframe\">\n",
       "  <thead>\n",
       "    <tr style=\"text-align: right;\">\n",
       "      <th></th>\n",
       "      <th>publisher</th>\n",
       "      <th>count</th>\n",
       "    </tr>\n",
       "  </thead>\n",
       "  <tbody>\n",
       "    <tr>\n",
       "      <th>0</th>\n",
       "      <td>Penguin Books</td>\n",
       "      <td>42</td>\n",
       "    </tr>\n",
       "  </tbody>\n",
       "</table>\n",
       "</div>"
      ],
      "text/plain": [
       "       publisher  count\n",
       "0  Penguin Books     42"
      ]
     },
     "metadata": {},
     "output_type": "display_data"
    }
   ],
   "source": [
    "query = '''\n",
    "        WITH a AS \n",
    "            (SELECT COUNT(book_id) as count\n",
    "                , publisher_id\n",
    "                , ROW_NUMBER() OVER (ORDER BY COUNT (book_id) DESC) AS rn\n",
    "            FROM books\n",
    "            GROUP BY 2)\n",
    "        SELECT p.publisher\n",
    "            , a.count\n",
    "        FROM publishers p\n",
    "        JOIN a ON a.publisher_id  = p.publisher_id\n",
    "        WHERE a.rn=1\n",
    "        '''\n",
    "task_3 = pd.io.sql.read_sql(query, con = engine)\n",
    "display(task_3)"
   ]
  },
  {
   "cell_type": "markdown",
   "id": "e4feb786",
   "metadata": {},
   "source": [
    "**Ответ:** Издательство `Penguin Books` выпустило наибольшее число книг (42 шт.) толще 50 страниц"
   ]
  },
  {
   "cell_type": "markdown",
   "id": "c2b5a541",
   "metadata": {},
   "source": [
    "### Задача 4"
   ]
  },
  {
   "cell_type": "markdown",
   "id": "3c66b4af",
   "metadata": {},
   "source": [
    "Определите автора с самой высокой средней оценкой книг — учитывайте\n",
    "только книги с 50 и более оценками"
   ]
  },
  {
   "cell_type": "code",
   "execution_count": 6,
   "id": "ca490937",
   "metadata": {},
   "outputs": [
    {
     "data": {
      "text/html": [
       "<div>\n",
       "<style scoped>\n",
       "    .dataframe tbody tr th:only-of-type {\n",
       "        vertical-align: middle;\n",
       "    }\n",
       "\n",
       "    .dataframe tbody tr th {\n",
       "        vertical-align: top;\n",
       "    }\n",
       "\n",
       "    .dataframe thead th {\n",
       "        text-align: right;\n",
       "    }\n",
       "</style>\n",
       "<table border=\"1\" class=\"dataframe\">\n",
       "  <thead>\n",
       "    <tr style=\"text-align: right;\">\n",
       "      <th></th>\n",
       "      <th>author</th>\n",
       "      <th>avg</th>\n",
       "    </tr>\n",
       "  </thead>\n",
       "  <tbody>\n",
       "    <tr>\n",
       "      <th>0</th>\n",
       "      <td>J.K. Rowling/Mary GrandPré</td>\n",
       "      <td>4.287097</td>\n",
       "    </tr>\n",
       "  </tbody>\n",
       "</table>\n",
       "</div>"
      ],
      "text/plain": [
       "                       author       avg\n",
       "0  J.K. Rowling/Mary GrandPré  4.287097"
      ]
     },
     "metadata": {},
     "output_type": "display_data"
    }
   ],
   "source": [
    "query = '''\n",
    "WITH b_rt AS (SELECT b.author_id\n",
    "                , b.book_id\n",
    "                , COUNT(rt.rating_id)\n",
    "             FROM books b\n",
    "             JOIN ratings rt ON rt.book_id = b.book_id\n",
    "             WHERE b.num_pages>50\n",
    "             GROUP BY 1, 2\n",
    "             HAVING COUNT(rt.rating_id)>=50)\n",
    "        SELECT a.author\n",
    "        , AVG(rt.rating)\n",
    "        FROM b_rt\n",
    "        JOIN ratings rt ON rt.book_id = b_rt.book_id\n",
    "        JOIN authors a ON a.author_id  = b_rt.author_id\n",
    "        GROUP BY 1\n",
    "        ORDER BY 2 desc\n",
    "        LIMIT 1\n",
    "        '''\n",
    "task_4 = pd.io.sql.read_sql(query, con = engine)\n",
    "display(task_4)"
   ]
  },
  {
   "cell_type": "markdown",
   "id": "7490074e",
   "metadata": {},
   "source": [
    "**Ответ:** автором с самой высокой средней оценкой книг является `J.K.Rowling/Mary GrandPré` со средней оценкой 4,287097."
   ]
  },
  {
   "cell_type": "markdown",
   "id": "6a8ab981",
   "metadata": {},
   "source": [
    "### Задача 5"
   ]
  },
  {
   "cell_type": "markdown",
   "id": "729ad4a8",
   "metadata": {},
   "source": [
    "Посчитайте среднее количество обзоров от пользователей, которые поставили\n",
    "больше 50 оценок"
   ]
  },
  {
   "cell_type": "code",
   "execution_count": 7,
   "id": "5f567a42",
   "metadata": {},
   "outputs": [
    {
     "data": {
      "text/html": [
       "<div>\n",
       "<style scoped>\n",
       "    .dataframe tbody tr th:only-of-type {\n",
       "        vertical-align: middle;\n",
       "    }\n",
       "\n",
       "    .dataframe tbody tr th {\n",
       "        vertical-align: top;\n",
       "    }\n",
       "\n",
       "    .dataframe thead th {\n",
       "        text-align: right;\n",
       "    }\n",
       "</style>\n",
       "<table border=\"1\" class=\"dataframe\">\n",
       "  <thead>\n",
       "    <tr style=\"text-align: right;\">\n",
       "      <th></th>\n",
       "      <th>avg</th>\n",
       "    </tr>\n",
       "  </thead>\n",
       "  <tbody>\n",
       "    <tr>\n",
       "      <th>0</th>\n",
       "      <td>24.333333</td>\n",
       "    </tr>\n",
       "  </tbody>\n",
       "</table>\n",
       "</div>"
      ],
      "text/plain": [
       "         avg\n",
       "0  24.333333"
      ]
     },
     "metadata": {},
     "output_type": "display_data"
    }
   ],
   "source": [
    "query = '''\n",
    "        WITH c AS \n",
    "            (SELECT rt.username\n",
    "                  , COUNT(rt.rating_id) AS cnt_rt\n",
    "            FROM ratings rt\n",
    "            GROUP BY 1\n",
    "            HAVING COUNT(rt.rating_id) > 50),\n",
    "            d as\n",
    "            (SELECT r.username\n",
    "                  , COUNT(r.review_id) AS cnt_rew\n",
    "            FROM reviews r\n",
    "            GROUP BY 1)\n",
    "        SELECT AVG(d.cnt_rew)\n",
    "        FROM d\n",
    "        JOIN c ON c.username  = d.username\n",
    "        '''\n",
    "task_5 = pd.io.sql.read_sql(query, con = engine)\n",
    "display(task_5)"
   ]
  },
  {
   "cell_type": "markdown",
   "id": "5c51672c",
   "metadata": {},
   "source": [
    "**Ответ:** среднее количество обзоров от пользователей составляет 24,3(3)"
   ]
  }
 ],
 "metadata": {
  "ExecuteTimeLog": [
   {
    "duration": 13376,
    "start_time": "2022-06-24T19:59:24.649Z"
   },
   {
    "duration": 159,
    "start_time": "2022-06-24T19:59:38.028Z"
   },
   {
    "duration": 13,
    "start_time": "2022-06-24T19:59:38.189Z"
   },
   {
    "duration": 32,
    "start_time": "2022-06-24T19:59:38.205Z"
   },
   {
    "duration": 16,
    "start_time": "2022-06-24T19:59:38.240Z"
   },
   {
    "duration": 18,
    "start_time": "2022-06-24T19:59:38.258Z"
   },
   {
    "duration": 17,
    "start_time": "2022-06-24T19:59:38.278Z"
   },
   {
    "duration": 29,
    "start_time": "2022-06-24T20:00:37.101Z"
   }
  ],
  "kernelspec": {
   "display_name": "Python 3 (ipykernel)",
   "language": "python",
   "name": "python3"
  },
  "language_info": {
   "codemirror_mode": {
    "name": "ipython",
    "version": 3
   },
   "file_extension": ".py",
   "mimetype": "text/x-python",
   "name": "python",
   "nbconvert_exporter": "python",
   "pygments_lexer": "ipython3",
   "version": "3.9.7"
  },
  "latex_envs": {
   "LaTeX_envs_menu_present": true,
   "autoclose": false,
   "autocomplete": true,
   "bibliofile": "biblio.bib",
   "cite_by": "apalike",
   "current_citInitial": 1,
   "eqLabelWithNumbers": true,
   "eqNumInitial": 1,
   "hotkeys": {
    "equation": "Ctrl-E",
    "itemize": "Ctrl-I"
   },
   "labels_anchors": false,
   "latex_user_defs": false,
   "report_style_numbering": false,
   "user_envs_cfg": false
  },
  "toc": {
   "base_numbering": 1,
   "nav_menu": {},
   "number_sections": true,
   "sideBar": true,
   "skip_h1_title": true,
   "title_cell": "Содержание",
   "title_sidebar": "Содержание",
   "toc_cell": true,
   "toc_position": {
    "height": "calc(100% - 180px)",
    "left": "10px",
    "top": "150px",
    "width": "165px"
   },
   "toc_section_display": true,
   "toc_window_display": true
  }
 },
 "nbformat": 4,
 "nbformat_minor": 5
}
